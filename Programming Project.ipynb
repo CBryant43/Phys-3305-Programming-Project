{
 "cells": [
  {
   "cell_type": "code",
   "execution_count": 3,
   "metadata": {},
   "outputs": [],
   "source": [
    "from sympy.interactive import printing\n",
    "printing.init_printing(use_latex=True)\n",
    "from sympy import *\n",
    "import sympy as sp\n",
    "import numpy as np\n",
    "\n",
    "import matplotlib.pyplot as plt\n",
    "\n",
    "import math"
   ]
  },
  {
   "cell_type": "code",
   "execution_count": null,
   "metadata": {},
   "outputs": [],
   "source": [
    "print(\"First we need to define Planck's Law\")\n",
    "B = sp.Function('B')\n",
    "h = sp.Symbol('h')\n",
    "ν = sp.Symbol('ν')\n",
    "c = sp.Symbol('c')\n",
    "k = sp.Symbol('k')\n",
    "T = sp.Symbol('T')\n",
    "B = ((2*h*ν**3) / (c**2)) * ((1) / (exp((h*ν) / (k*T)) - 1))\n",
    "display(B) \n",
    "# The next line is written in LaTex for convenience, double click for the source code"
   ]
  },
  {
   "cell_type": "markdown",
   "metadata": {},
   "source": [
    "Now to define the flux, F\n",
    "$$ F = \\frac{4\\pi}{3}\\frac{dB}{d\\tau} $$"
   ]
  },
  {
   "cell_type": "code",
   "execution_count": null,
   "metadata": {},
   "outputs": [],
   "source": [
    "print(\"finally, it's time to define the specific Intensity, I\")\n",
    "print(\"This was derived according to the grey atmosphere problem and the Eddington approximation\")\n",
    "\n",
    "τ, μ = sp.symbols('τ,μ')\n",
    "F = sp.Symbol('F')\n",
    "I = sp.Function('I')(τ, μ)\n",
    "I = (3*F / (4*pi)) * (μ + 2 / 3) \n",
    "display(I)\n",
    "\n",
    "print(\"Now, to obtain the result that we want...\")\n",
    "\n",
    "I = (3*F / (4*pi)) * (1+ 2 / 3) \n",
    "display(I)\n",
    "\n"
   ]
  },
  {
   "cell_type": "code",
   "execution_count": null,
   "metadata": {},
   "outputs": [],
   "source": [
    "# The following was my attempt at plotting\n",
    "print(\"This is my first time EVER coding in my life, so this project is the result of approximately two weeks of teaching myself\")\n",
    "print(\"notice the plot is omitted, this is because I couldn't manage to figure out how to do it\")\n",
    "print(\"I will, however, include what I had as an attempt at a plot\")\n",
    "\n",
    "x_vals = np.linspace(3*10**6, 3*10**16, 1000)\n",
    "y_vals = I\n",
    "# plt.plot(x_vals, y_vals)"
   ]
  }
 ],
 "metadata": {
  "kernelspec": {
   "display_name": "Python 3",
   "language": "python",
   "name": "python3"
  },
  "language_info": {
   "codemirror_mode": {
    "name": "ipython",
    "version": 3
   },
   "file_extension": ".py",
   "mimetype": "text/x-python",
   "name": "python",
   "nbconvert_exporter": "python",
   "pygments_lexer": "ipython3",
   "version": "3.8.5"
  }
 },
 "nbformat": 4,
 "nbformat_minor": 4
}
